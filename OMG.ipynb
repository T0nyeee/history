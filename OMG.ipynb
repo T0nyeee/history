{
 "cells": [
  {
   "cell_type": "code",
   "execution_count": 12,
   "id": "43ae1c9f",
   "metadata": {},
   "outputs": [
    {
     "name": "stdout",
     "output_type": "stream",
     "text": [
      "請輸入中文字:美食\n"
     ]
    },
    {
     "data": {
      "text/plain": [
       "'https://ideaking.info/searchresult/type=image&page=1&keywords=美食'"
      ]
     },
     "execution_count": 12,
     "metadata": {},
     "output_type": "execute_result"
    }
   ],
   "source": [
    "word = input( '請輸入中文字:' )\n",
    "url = f'https://ideaking.info/searchresult/type=image&page=1&keywords={word}'\n",
    "url"
   ]
  },
  {
   "cell_type": "code",
   "execution_count": 2,
   "id": "c4b60e93",
   "metadata": {},
   "outputs": [
    {
     "name": "stdout",
     "output_type": "stream",
     "text": [
      "請輸入中文字:手機\n",
      "https://st3.depositphotos.com/9880800/16822/i/950/depositphotos_168222038-stock-photo-man-using-smartphone.jpg?forcejpeg=true\n"
     ]
    }
   ],
   "source": [
    "import requests\n",
    "from bs4 import BeautifulSoup\n",
    "\n",
    "def get_image_url(word):\n",
    "    url = f'https://ideaking.info/searchresult/type=image&page=1&keywords={word}'\n",
    "\n",
    "    try:\n",
    "        html = requests.get(url)\n",
    "        html.raise_for_status()  # 確保請求成功\n",
    "\n",
    "        bs = BeautifulSoup(html.content, 'lxml')\n",
    "        data = bs.find('div', id='search-results-gallery')\n",
    "\n",
    "        if data:\n",
    "            # 找到第一個圖片元素\n",
    "            img_tag = data.find('img')\n",
    "            if img_tag:\n",
    "                img_src = img_tag.get('src')\n",
    "                return img_src\n",
    "            else:\n",
    "                return '找不到圖片'\n",
    "        \n",
    "        else:\n",
    "            return '找不到搜尋結果'\n",
    "\n",
    "    except requests.exceptions.RequestException as e:\n",
    "        return f\"Error fetching URL: {e}\"\n",
    "\n",
    "word = input('請輸入中文字:')\n",
    "result = get_image_url(word)\n",
    "print(result)\n"
   ]
  },
  {
   "cell_type": "code",
   "execution_count": null,
   "id": "e9196c1a",
   "metadata": {},
   "outputs": [],
   "source": []
  }
 ],
 "metadata": {
  "kernelspec": {
   "display_name": "Python 3 (ipykernel)",
   "language": "python",
   "name": "python3"
  },
  "language_info": {
   "codemirror_mode": {
    "name": "ipython",
    "version": 3
   },
   "file_extension": ".py",
   "mimetype": "text/x-python",
   "name": "python",
   "nbconvert_exporter": "python",
   "pygments_lexer": "ipython3",
   "version": "3.10.9"
  }
 },
 "nbformat": 4,
 "nbformat_minor": 5
}
